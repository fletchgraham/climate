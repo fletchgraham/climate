{
 "cells": [
  {
   "cell_type": "markdown",
   "metadata": {},
   "source": [
    "## Layer Model Problem 3: Nuclear Winter"
   ]
  },
  {
   "cell_type": "code",
   "execution_count": 1,
   "metadata": {},
   "outputs": [
    {
     "data": {
      "text/plain": [
       "254.06637407730736"
      ]
     },
     "execution_count": 1,
     "metadata": {},
     "output_type": "execute_result"
    }
   ],
   "source": [
    "sigma = 5.67 * 10 ** -8\n",
    "solar = 1350\n",
    "albedo = .3\n",
    "\n",
    "# (solar * (1 - albedo)) / 4 = sigma * T ** 4\n",
    "\n",
    "T_atmos = (((solar * (1 - albedo)) / 4) / sigma) ** (1 / 4)\n",
    "\n",
    "T_atmos"
   ]
  },
  {
   "cell_type": "code",
   "execution_count": 2,
   "metadata": {},
   "outputs": [
    {
     "data": {
      "text/plain": [
       "254.06637407730736"
      ]
     },
     "execution_count": 2,
     "metadata": {},
     "output_type": "execute_result"
    }
   ],
   "source": [
    "# NORMALLY: sigma * T_ground ** 4 = 2 * sigma * T_atmos ** 4\n",
    "# NUCLEAR: sigma * T_ground ** 4 = 1 * sigma * T_atmos ** 4\n",
    "\n",
    "T_ground = T_atmos\n",
    "\n",
    "T_ground"
   ]
  },
  {
   "cell_type": "code",
   "execution_count": null,
   "metadata": {},
   "outputs": [],
   "source": []
  }
 ],
 "metadata": {
  "kernelspec": {
   "display_name": "Python 3",
   "language": "python",
   "name": "python3"
  },
  "language_info": {
   "codemirror_mode": {
    "name": "ipython",
    "version": 3
   },
   "file_extension": ".py",
   "mimetype": "text/x-python",
   "name": "python",
   "nbconvert_exporter": "python",
   "pygments_lexer": "ipython3",
   "version": "3.7.0"
  }
 },
 "nbformat": 4,
 "nbformat_minor": 4
}
