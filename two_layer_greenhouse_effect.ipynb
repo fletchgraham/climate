{
 "cells": [
  {
   "cell_type": "markdown",
   "metadata": {},
   "source": [
    "## Layer Model Problem 2: A Stronger Greenhouse Effect\n"
   ]
  },
  {
   "cell_type": "code",
   "execution_count": 1,
   "metadata": {},
   "outputs": [],
   "source": [
    "sigma = 5.67 * 10 ** -8 # stefan-boltzmann constant\n",
    "solar = 1350 # strength of the sun\n",
    "albedo = .3 # reflectivity\n",
    "epsilon = 1 # perfect blackbody"
   ]
  },
  {
   "cell_type": "code",
   "execution_count": 2,
   "metadata": {},
   "outputs": [
    {
     "data": {
      "text/plain": [
       "254.06637407730736"
      ]
     },
     "execution_count": 2,
     "metadata": {},
     "output_type": "execute_result"
    }
   ],
   "source": [
    "# solar * (1 - albedo) / 4 = epsilon * sigma * T ** 4\n",
    "\n",
    "T_layer2 = ((solar * (1 - albedo) / 4) / (epsilon * sigma)) ** (1 / 4)\n",
    "\n",
    "T_layer2"
   ]
  },
  {
   "cell_type": "code",
   "execution_count": 3,
   "metadata": {},
   "outputs": [
    {
     "data": {
      "text/plain": [
       "302.1375397356768"
      ]
     },
     "execution_count": 3,
     "metadata": {},
     "output_type": "execute_result"
    }
   ],
   "source": [
    "# sigma * T_layer1 ** 4 = 2 * sigma * T_layer2 ** 4\n",
    "\n",
    "flux_to_layer2 = 2 * sigma * T_layer2 ** 4\n",
    "\n",
    "T_layer1 = (flux_to_layer2 / sigma) ** (1 / 4)\n",
    "\n",
    "T_layer1"
   ]
  },
  {
   "cell_type": "code",
   "execution_count": 4,
   "metadata": {},
   "outputs": [
    {
     "data": {
      "text/plain": [
       "1.189207115002721"
      ]
     },
     "execution_count": 4,
     "metadata": {},
     "output_type": "execute_result"
    }
   ],
   "source": [
    "L1_L2_ratio = T_layer1 / T_layer2\n",
    "\n",
    "L1_L2_ratio"
   ]
  },
  {
   "cell_type": "code",
   "execution_count": 5,
   "metadata": {},
   "outputs": [
    {
     "data": {
      "text/plain": [
       "334.370152488211"
      ]
     },
     "execution_count": 5,
     "metadata": {},
     "output_type": "execute_result"
    }
   ],
   "source": [
    "flux_to_layer1 = 3 * (sigma * T_layer2 ** 4)\n",
    "\n",
    "T_ground = (flux_to_layer1 / sigma) ** (1 / 4)\n",
    "\n",
    "T_ground"
   ]
  },
  {
   "cell_type": "code",
   "execution_count": 6,
   "metadata": {},
   "outputs": [
    {
     "data": {
      "text/plain": [
       "1.3160740129524924"
      ]
     },
     "execution_count": 6,
     "metadata": {},
     "output_type": "execute_result"
    }
   ],
   "source": [
    "G_L2_ratio = T_ground / T_layer2\n",
    "\n",
    "G_L2_ratio"
   ]
  },
  {
   "cell_type": "code",
   "execution_count": 7,
   "metadata": {},
   "outputs": [
    {
     "data": {
      "text/plain": [
       "1.3160740129524924"
      ]
     },
     "execution_count": 7,
     "metadata": {},
     "output_type": "execute_result"
    }
   ],
   "source": [
    "3 ** (1 / 4)"
   ]
  },
  {
   "cell_type": "code",
   "execution_count": null,
   "metadata": {},
   "outputs": [],
   "source": []
  }
 ],
 "metadata": {
  "kernelspec": {
   "display_name": "Python 3",
   "language": "python",
   "name": "python3"
  },
  "language_info": {
   "codemirror_mode": {
    "name": "ipython",
    "version": 3
   },
   "file_extension": ".py",
   "mimetype": "text/x-python",
   "name": "python",
   "nbconvert_exporter": "python",
   "pygments_lexer": "ipython3",
   "version": "3.7.0"
  }
 },
 "nbformat": 4,
 "nbformat_minor": 4
}
