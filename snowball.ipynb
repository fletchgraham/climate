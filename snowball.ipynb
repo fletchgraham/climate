{
 "metadata": {
  "language_info": {
   "codemirror_mode": {
    "name": "ipython",
    "version": 3
   },
   "file_extension": ".py",
   "mimetype": "text/x-python",
   "name": "python",
   "nbconvert_exporter": "python",
   "pygments_lexer": "ipython3",
   "version": "3.7.0-final"
  },
  "orig_nbformat": 2,
  "kernelspec": {
   "name": "Python 3.7.0 64-bit ('venv': venv)",
   "display_name": "Python 3.7.0 64-bit ('venv': venv)",
   "metadata": {
    "interpreter": {
     "hash": "554e8404d3cc3a71b2852e2ae39d7b617f17ed4eef85e6ce268bd1df2770025e"
    }
   }
  }
 },
 "nbformat": 4,
 "nbformat_minor": 2,
 "cells": [
  {
   "cell_type": "code",
   "execution_count": 19,
   "metadata": {},
   "outputs": [],
   "source": [
    "import numpy as np\n",
    "import matplotlib.pyplot as plt "
   ]
  },
  {
   "cell_type": "code",
   "execution_count": 20,
   "metadata": {},
   "outputs": [],
   "source": [
    "# copy data from the readings\n",
    "\n",
    "planet_temp_data = np.array([\n",
    "    265,\n",
    "    255,\n",
    "    245,\n",
    "    235,\n",
    "    225,\n",
    "    215\n",
    "])\n",
    "\n",
    "ice_lat_data = np.array([\n",
    "    75,\n",
    "    60,\n",
    "    45,\n",
    "    30,\n",
    "    15,\n",
    "    0\n",
    "])\n",
    "\n",
    "albedo_data = np.array([\n",
    "    .15,\n",
    "    .25,\n",
    "    .35,\n",
    "    .45,\n",
    "    .55,\n",
    "    .65\n",
    "])"
   ]
  },
  {
   "cell_type": "code",
   "execution_count": 21,
   "metadata": {},
   "outputs": [],
   "source": [
    "# ice_lat = m1 * T + b1\n",
    "# albedo = m2 * T + b2"
   ]
  },
  {
   "cell_type": "code",
   "execution_count": 22,
   "metadata": {},
   "outputs": [],
   "source": [
    "# use numpy's polyfit to do least squares regression on\n",
    "# first degree polynomial\n",
    "\n",
    "m1, b1 = np.polyfit(planet_temp_data, ice_lat_data, 1)\n",
    "m2, b2 = np.polyfit(planet_temp_data, albedo_data, 1)\n",
    "\n",
    "# now we have the slope and y-intercept to use in our\n",
    "# linear functions:\n",
    "\n",
    "def get_ice_lat(temperature):\n",
    "    '''Return the latitude to which ice can form for the given \n",
    "    planetary temperature.\n",
    "    '''\n",
    "    return m1 * temperature + b1 \n",
    "\n",
    "def get_albedo(temperature):\n",
    "    '''Return the planetary albedo due to ice for the given \n",
    "    planetary temperature.\n",
    "    '''\n",
    "    return m2 * temperature + b2\n",
    "\n"
   ]
  },
  {
   "cell_type": "code",
   "execution_count": null,
   "metadata": {},
   "outputs": [],
   "source": []
  }
 ]
}